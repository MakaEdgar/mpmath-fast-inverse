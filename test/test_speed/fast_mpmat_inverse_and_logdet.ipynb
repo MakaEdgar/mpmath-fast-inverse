{
 "cells": [
  {
   "cell_type": "markdown",
   "metadata": {},
   "source": [
    "# fast_mpmat_inverse_and_logdet\n",
    "## 50 digits"
   ]
  },
  {
   "cell_type": "code",
   "execution_count": 15,
   "metadata": {},
   "outputs": [],
   "source": [
    "import numpy as np\n",
    "import mpmath as mp; mp.mp.dps = 50\n",
    "\n",
    "def slow_mp_matrix_inverse(m):\n",
    "    return m**-1\n",
    "\n",
    "def slow_mp_matrix_logdet(m):\n",
    "    return mp.log(mp.det(m))\n",
    "\n",
    "def slow_mp_matrix_inverse_with_logdet(m):\n",
    "    logdet = slow_mp_matrix_logdet(m)\n",
    "    m_inv = slow_mp_matrix_inverse(m)\n",
    "    return (logdet, m_inv)\n"
   ]
  },
  {
   "cell_type": "code",
   "execution_count": 2,
   "metadata": {},
   "outputs": [],
   "source": [
    "from mpinv1 import mpinv\n",
    "\n",
    "def mp_matrix_to_mpmatfile(m, outfile=\"matrix.mpmat\"):\n",
    "    with open(outfile, \"w\") as f:\n",
    "        f.write(str(m.rows) + \" \" + str(m.cols) + \"\\n\")\n",
    "        for row in m.tolist():\n",
    "            for m_ij in row:\n",
    "                f.write(str(m_ij) + \" \")\n",
    "            f.write(\"\\n\")\n",
    "            \n",
    "def mp_matrix_from_mpmatfile(infile=\"matrix.mpmat\"):\n",
    "    with open(infile, \"r\") as f:\n",
    "        file = [x.strip().split() for x in f.read().split(\"\\n\") if x.strip() != \"\"]\n",
    "    matrix_list = [list(map(mp.mpf, x)) for x in file[1:]]\n",
    "    return mp.matrix(matrix_list)\n",
    "    \n",
    "    \n",
    "    \n",
    "def fast_mp_matrix_inverse(m):\n",
    "    mp_matrix_to_mpmatfile(m, \"_temp.mpmat\")\n",
    "    mpinv(\"_temp.mpmat\", \"_temp_inverse.mpmat\").inv()\n",
    "    return mp_matrix_from_mpmatfile(\"_temp_inverse.mpmat\")\n",
    "\n",
    "def fast_mp_matrix_logdet(m, is_symmetric=True):\n",
    "    mp_matrix_to_mpmatfile(m, \"_temp.mpmat\")\n",
    "    return mpinv(\"_temp.mpmat\", \"_temp_inverse.mpmat\").logdet(is_symmetric)\n",
    "\n",
    "def fast_mp_matrix_inverse_with_logdet(m, is_symmetric=True):\n",
    "    logdet = fast_mp_matrix_logdet(m, is_symmetric)\n",
    "    m_inv = fast_mp_matrix_inverse(m)\n",
    "    return(logdet, m_inv)\n"
   ]
  },
  {
   "cell_type": "code",
   "execution_count": 3,
   "metadata": {},
   "outputs": [],
   "source": [
    "from mpinv2 import mpmat\n",
    "\n",
    "def fast_mp_matrix_inverse_with_logdet2(m, is_symmetric=True):\n",
    "    a = mpmat(m.rows, m.cols)\n",
    "    for i in range(m.rows):\n",
    "        for j in range(m.cols):\n",
    "            a.set_matrix_coeff(i,j,str(m[i,j])) \n",
    "    a.calc_invert_with_logdet(is_symmetric)\n",
    "\n",
    "    logdet = a.get_logdet()\n",
    "    m_inv = mp.matrix([[a.get_matrix_inv_coeff(i,j) for j in range(m.cols)] for i in range(m.rows)])\n",
    "    \n",
    "    return(logdet, m_inv)\n",
    "\n",
    "\n",
    "def fast_mp_matrix_inverse2(m):\n",
    "    a = mpmat(m.rows, m.cols)\n",
    "    for i in range(m.rows):\n",
    "        for j in range(m.cols):\n",
    "            a.set_matrix_coeff(i,j,str(m[i,j])) \n",
    "    a.calc_invert()\n",
    "    \n",
    "    m_inv = mp.matrix([[a.get_matrix_inv_coeff(i,j) for j in range(m.cols)] for i in range(m.rows)])\n",
    "\n",
    "    return m_inv\n",
    "\n",
    "\n",
    "def fast_mp_matrix_logdet2(m, is_symmetric=True):\n",
    "    a = mpmat(m.rows, m.cols)\n",
    "    for i in range(m.rows):\n",
    "        for j in range(m.cols):\n",
    "            a.set_matrix_coeff(i,j,str(m[i,j])) \n",
    "    a.calc_logdet(is_symmetric)\n",
    "\n",
    "    logdet = a.get_logdet()\n",
    "    \n",
    "    return logdet\n"
   ]
  },
  {
   "cell_type": "markdown",
   "metadata": {},
   "source": [
    "<br><br><br>\n",
    "\n",
    "# Run speed tests"
   ]
  },
  {
   "cell_type": "markdown",
   "metadata": {},
   "source": [
    "## 62x62"
   ]
  },
  {
   "cell_type": "code",
   "execution_count": 5,
   "metadata": {},
   "outputs": [],
   "source": [
    "m = mp_matrix_from_mpmatfile(\"62x62.mpmat\")"
   ]
  },
  {
   "cell_type": "markdown",
   "metadata": {},
   "source": [
    "### inverse"
   ]
  },
  {
   "cell_type": "code",
   "execution_count": 45,
   "metadata": {},
   "outputs": [
    {
     "name": "stdout",
     "output_type": "stream",
     "text": [
      "1.69 s ± 7.92 ms per loop (mean ± std. dev. of 7 runs, 1 loop each)\n"
     ]
    }
   ],
   "source": [
    "%%timeit\n",
    "slow_mp_matrix_inverse(m)"
   ]
  },
  {
   "cell_type": "code",
   "execution_count": 46,
   "metadata": {},
   "outputs": [
    {
     "name": "stdout",
     "output_type": "stream",
     "text": [
      "276 ms ± 1.46 ms per loop (mean ± std. dev. of 7 runs, 1 loop each)\n"
     ]
    }
   ],
   "source": [
    "%%timeit\n",
    "fast_mp_matrix_inverse(m)"
   ]
  },
  {
   "cell_type": "code",
   "execution_count": 47,
   "metadata": {},
   "outputs": [
    {
     "name": "stdout",
     "output_type": "stream",
     "text": [
      "93.2 ms ± 294 µs per loop (mean ± std. dev. of 7 runs, 10 loops each)\n"
     ]
    }
   ],
   "source": [
    "%%timeit\n",
    "fast_mp_matrix_inverse2(m)"
   ]
  },
  {
   "cell_type": "markdown",
   "metadata": {},
   "source": [
    "### logdet"
   ]
  },
  {
   "cell_type": "code",
   "execution_count": 48,
   "metadata": {},
   "outputs": [
    {
     "name": "stdout",
     "output_type": "stream",
     "text": [
      "572 ms ± 6.03 ms per loop (mean ± std. dev. of 7 runs, 1 loop each)\n"
     ]
    }
   ],
   "source": [
    "%%timeit\n",
    "slow_mp_matrix_logdet(m)"
   ]
  },
  {
   "cell_type": "code",
   "execution_count": 49,
   "metadata": {},
   "outputs": [
    {
     "name": "stdout",
     "output_type": "stream",
     "text": [
      "82.1 ms ± 534 µs per loop (mean ± std. dev. of 7 runs, 10 loops each)\n"
     ]
    }
   ],
   "source": [
    "%%timeit\n",
    "fast_mp_matrix_logdet(m)"
   ]
  },
  {
   "cell_type": "code",
   "execution_count": 52,
   "metadata": {},
   "outputs": [
    {
     "name": "stdout",
     "output_type": "stream",
     "text": [
      "32 ms ± 122 µs per loop (mean ± std. dev. of 7 runs, 10 loops each)\n"
     ]
    }
   ],
   "source": [
    "%%timeit\n",
    "fast_mp_matrix_logdet2(m)"
   ]
  },
  {
   "cell_type": "markdown",
   "metadata": {},
   "source": [
    "### inverse with logdet"
   ]
  },
  {
   "cell_type": "code",
   "execution_count": 54,
   "metadata": {},
   "outputs": [
    {
     "name": "stdout",
     "output_type": "stream",
     "text": [
      "2.25 s ± 6.99 ms per loop (mean ± std. dev. of 7 runs, 1 loop each)\n"
     ]
    }
   ],
   "source": [
    "%%timeit\n",
    "slow_mp_matrix_inverse_with_logdet(m)"
   ]
  },
  {
   "cell_type": "code",
   "execution_count": 59,
   "metadata": {},
   "outputs": [
    {
     "name": "stdout",
     "output_type": "stream",
     "text": [
      "358 ms ± 5.97 ms per loop (mean ± std. dev. of 7 runs, 1 loop each)\n"
     ]
    }
   ],
   "source": [
    "%%timeit\n",
    "fast_mp_matrix_inverse_with_logdet(m)"
   ]
  },
  {
   "cell_type": "code",
   "execution_count": 60,
   "metadata": {},
   "outputs": [
    {
     "name": "stdout",
     "output_type": "stream",
     "text": [
      "91.7 ms ± 351 µs per loop (mean ± std. dev. of 7 runs, 10 loops each)\n"
     ]
    }
   ],
   "source": [
    "%%timeit\n",
    "fast_mp_matrix_inverse_with_logdet2(m)"
   ]
  },
  {
   "cell_type": "markdown",
   "metadata": {},
   "source": [
    "<br><br>\n",
    "\n",
    "## 101x101"
   ]
  },
  {
   "cell_type": "code",
   "execution_count": 6,
   "metadata": {},
   "outputs": [],
   "source": [
    "m = mp_matrix_from_mpmatfile(\"101x101.mpmat\")"
   ]
  },
  {
   "cell_type": "markdown",
   "metadata": {},
   "source": [
    "### inverse"
   ]
  },
  {
   "cell_type": "code",
   "execution_count": 8,
   "metadata": {},
   "outputs": [
    {
     "name": "stdout",
     "output_type": "stream",
     "text": [
      "6.98 s ± 16.3 ms per loop (mean ± std. dev. of 7 runs, 1 loop each)\n"
     ]
    }
   ],
   "source": [
    "%%timeit\n",
    "slow_mp_matrix_inverse(m)"
   ]
  },
  {
   "cell_type": "code",
   "execution_count": 9,
   "metadata": {},
   "outputs": [
    {
     "name": "stdout",
     "output_type": "stream",
     "text": [
      "1.01 s ± 2.51 ms per loop (mean ± std. dev. of 7 runs, 1 loop each)\n"
     ]
    }
   ],
   "source": [
    "%%timeit\n",
    "fast_mp_matrix_inverse(m)"
   ]
  },
  {
   "cell_type": "code",
   "execution_count": 10,
   "metadata": {},
   "outputs": [
    {
     "name": "stdout",
     "output_type": "stream",
     "text": [
      "289 ms ± 689 µs per loop (mean ± std. dev. of 7 runs, 1 loop each)\n"
     ]
    }
   ],
   "source": [
    "%%timeit\n",
    "fast_mp_matrix_inverse2(m)"
   ]
  },
  {
   "cell_type": "markdown",
   "metadata": {},
   "source": [
    "### logdet"
   ]
  },
  {
   "cell_type": "code",
   "execution_count": 11,
   "metadata": {},
   "outputs": [
    {
     "name": "stdout",
     "output_type": "stream",
     "text": [
      "2.28 s ± 9.46 ms per loop (mean ± std. dev. of 7 runs, 1 loop each)\n"
     ]
    }
   ],
   "source": [
    "%%timeit\n",
    "slow_mp_matrix_logdet(m)"
   ]
  },
  {
   "cell_type": "code",
   "execution_count": 12,
   "metadata": {},
   "outputs": [
    {
     "name": "stdout",
     "output_type": "stream",
     "text": [
      "238 ms ± 973 µs per loop (mean ± std. dev. of 7 runs, 1 loop each)\n"
     ]
    }
   ],
   "source": [
    "%%timeit\n",
    "fast_mp_matrix_logdet(m)"
   ]
  },
  {
   "cell_type": "code",
   "execution_count": 13,
   "metadata": {},
   "outputs": [
    {
     "name": "stdout",
     "output_type": "stream",
     "text": [
      "90.5 ms ± 286 µs per loop (mean ± std. dev. of 7 runs, 10 loops each)\n"
     ]
    }
   ],
   "source": [
    "%%timeit\n",
    "fast_mp_matrix_logdet2(m)"
   ]
  },
  {
   "cell_type": "markdown",
   "metadata": {},
   "source": [
    "### inverse with logdet"
   ]
  },
  {
   "cell_type": "code",
   "execution_count": 16,
   "metadata": {},
   "outputs": [
    {
     "name": "stdout",
     "output_type": "stream",
     "text": [
      "9.27 s ± 35.8 ms per loop (mean ± std. dev. of 7 runs, 1 loop each)\n"
     ]
    }
   ],
   "source": [
    "%%timeit\n",
    "slow_mp_matrix_inverse_with_logdet(m)"
   ]
  },
  {
   "cell_type": "code",
   "execution_count": 17,
   "metadata": {},
   "outputs": [
    {
     "name": "stdout",
     "output_type": "stream",
     "text": [
      "1.27 s ± 25.3 ms per loop (mean ± std. dev. of 7 runs, 1 loop each)\n"
     ]
    }
   ],
   "source": [
    "%%timeit\n",
    "fast_mp_matrix_inverse_with_logdet(m)"
   ]
  },
  {
   "cell_type": "code",
   "execution_count": 18,
   "metadata": {},
   "outputs": [
    {
     "name": "stdout",
     "output_type": "stream",
     "text": [
      "280 ms ± 1.58 ms per loop (mean ± std. dev. of 7 runs, 1 loop each)\n"
     ]
    }
   ],
   "source": [
    "%%timeit\n",
    "fast_mp_matrix_inverse_with_logdet2(m)"
   ]
  },
  {
   "cell_type": "markdown",
   "metadata": {},
   "source": [
    "<br><br>\n",
    "\n",
    "## DEATH MODE: 2100x2100"
   ]
  },
  {
   "cell_type": "code",
   "execution_count": 30,
   "metadata": {},
   "outputs": [],
   "source": [
    "m = mp_matrix_from_mpmatfile(\"2100x2100_2.mpmat\")"
   ]
  },
  {
   "cell_type": "code",
   "execution_count": 31,
   "metadata": {},
   "outputs": [
    {
     "name": "stdout",
     "output_type": "stream",
     "text": [
      "CPU times: user 16min 43s, sys: 2.72 s, total: 16min 46s\n",
      "Wall time: 16min 44s\n"
     ]
    }
   ],
   "source": [
    "%%time\n",
    "lf1 = fast_mp_matrix_logdet(m)"
   ]
  },
  {
   "cell_type": "code",
   "execution_count": 23,
   "metadata": {},
   "outputs": [
    {
     "name": "stdout",
     "output_type": "stream",
     "text": [
      "CPU times: user 3min 20s, sys: 548 ms, total: 3min 20s\n",
      "Wall time: 3min 20s\n"
     ]
    },
    {
     "data": {
      "text/plain": [
       "-49304.14597975222"
      ]
     },
     "execution_count": 23,
     "metadata": {},
     "output_type": "execute_result"
    }
   ],
   "source": [
    "%%time\n",
    "lf2 = fast_mp_matrix_logdet2(m)"
   ]
  },
  {
   "cell_type": "code",
   "execution_count": 24,
   "metadata": {},
   "outputs": [
    {
     "name": "stdout",
     "output_type": "stream",
     "text": [
      "CPU times: user 17min 24s, sys: 5.1 s, total: 17min 29s\n",
      "Wall time: 17min 27s\n"
     ]
    }
   ],
   "source": [
    "%%time\n",
    "lf2, mif2 = fast_mp_matrix_inverse_with_logdet2(m)"
   ]
  },
  {
   "cell_type": "markdown",
   "metadata": {},
   "source": [
    "<br><br><br>\n",
    "\n",
    "# Run accuracy tests"
   ]
  },
  {
   "cell_type": "markdown",
   "metadata": {},
   "source": [
    "## 100x100"
   ]
  },
  {
   "cell_type": "code",
   "execution_count": 25,
   "metadata": {},
   "outputs": [],
   "source": [
    "m = mp_matrix_from_mpmatfile(\"101x101.mpmat\")"
   ]
  },
  {
   "cell_type": "code",
   "execution_count": 26,
   "metadata": {},
   "outputs": [],
   "source": [
    "# tuples: logdet, m_inv\n",
    "ls,  mis  = slow_mp_matrix_inverse_with_logdet(m)\n",
    "lf1, mif1 = fast_mp_matrix_inverse_with_logdet(m)\n",
    "lf2, mif2 = fast_mp_matrix_inverse_with_logdet2(m)"
   ]
  },
  {
   "cell_type": "code",
   "execution_count": 27,
   "metadata": {},
   "outputs": [
    {
     "name": "stdout",
     "output_type": "stream",
     "text": [
      "-2314.7156402629197061016788999340555170486026342436\n",
      "-2314.71564026292\n",
      "-2314.71564026292\n"
     ]
    }
   ],
   "source": [
    "# expected accuracy much higer than float64:\n",
    "# -2314.7156402629197061016788999340555170486026342436\n",
    "# -2314.71564026292\n",
    "# -2314.71564026292\n",
    "\n",
    "print(ls)\n",
    "print(lf1)\n",
    "print(lf2)"
   ]
  },
  {
   "cell_type": "code",
   "execution_count": 28,
   "metadata": {},
   "outputs": [
    {
     "name": "stdout",
     "output_type": "stream",
     "text": [
      "6.9602044560288803077037232450330330768862186550265e-25\n",
      "6.9602044560288983365014795859780078259878167547637e-25\n",
      "6.5496989399764083243419762939236712373133471499233e-38\n"
     ]
    }
   ],
   "source": [
    "print(np.sum(np.abs((mis - mif1).tolist())))\n",
    "print(np.sum(np.abs((mis - mif2).tolist())))\n",
    "print(np.sum(np.abs((mif1 - mif2).tolist())))"
   ]
  },
  {
   "cell_type": "code",
   "execution_count": null,
   "metadata": {},
   "outputs": [],
   "source": []
  },
  {
   "cell_type": "code",
   "execution_count": null,
   "metadata": {},
   "outputs": [],
   "source": []
  },
  {
   "cell_type": "code",
   "execution_count": null,
   "metadata": {},
   "outputs": [],
   "source": []
  },
  {
   "cell_type": "code",
   "execution_count": null,
   "metadata": {},
   "outputs": [],
   "source": []
  }
 ],
 "metadata": {
  "kernelspec": {
   "display_name": "Python 3",
   "language": "python",
   "name": "python3"
  },
  "language_info": {
   "codemirror_mode": {
    "name": "ipython",
    "version": 3
   },
   "file_extension": ".py",
   "mimetype": "text/x-python",
   "name": "python",
   "nbconvert_exporter": "python",
   "pygments_lexer": "ipython3",
   "version": "3.7.8"
  }
 },
 "nbformat": 4,
 "nbformat_minor": 4
}
