{
 "cells": [
  {
   "cell_type": "markdown",
   "metadata": {},
   "source": [
    "# fast_mpmat_inverse_and_logdet\n",
    "## 50 digits"
   ]
  },
  {
   "cell_type": "code",
   "execution_count": 1,
   "metadata": {},
   "outputs": [
    {
     "name": "stdout",
     "output_type": "stream",
     "text": [
      "WARNING: current mpinv version works only with 50 mpmath digits. Include \"mpmath.mp.dps = 50\" to your code\n"
     ]
    }
   ],
   "source": [
    "import numpy as np\n",
    "import mpmath as mp; mp.mp.dps = 50\n",
    "\n",
    "from mpinv import *"
   ]
  },
  {
   "cell_type": "markdown",
   "metadata": {},
   "source": [
    "## Test 1: Different regimes on 101x101"
   ]
  },
  {
   "cell_type": "markdown",
   "metadata": {},
   "source": [
    "#### speed tests"
   ]
  },
  {
   "cell_type": "code",
   "execution_count": 2,
   "metadata": {},
   "outputs": [],
   "source": [
    "m = mp_matrix_from_mpmatfile(infile=\"101x101.mpmat\")"
   ]
  },
  {
   "cell_type": "code",
   "execution_count": 3,
   "metadata": {},
   "outputs": [
    {
     "name": "stdout",
     "output_type": "stream",
     "text": [
      "1 loop, best of 5: 498 ms per loop\n",
      "1 loop, best of 5: 488 ms per loop\n",
      "1 loop, best of 5: 464 ms per loop\n",
      "1 loop, best of 5: 471 ms per loop\n"
     ]
    }
   ],
   "source": [
    "%timeit mpmat(m).get_inv(method=\"base\")\n",
    "%timeit mpmat(m).get_inv(method=\"LU\")\n",
    "%timeit mpmat(m).get_inv(method=\"LLT\")\n",
    "%timeit mpmat(m).get_inv(method=\"LDLT\")"
   ]
  },
  {
   "cell_type": "code",
   "execution_count": 4,
   "metadata": {},
   "outputs": [
    {
     "name": "stdout",
     "output_type": "stream",
     "text": [
      "10 loops, best of 5: 171 ms per loop\n",
      "10 loops, best of 5: 171 ms per loop\n",
      "10 loops, best of 5: 144 ms per loop\n",
      "10 loops, best of 5: 148 ms per loop\n"
     ]
    }
   ],
   "source": [
    "%timeit mpmat(m).get_det(method=\"base\")\n",
    "%timeit mpmat(m).get_det(method=\"LU\")\n",
    "%timeit mpmat(m).get_det(method=\"LLT\")\n",
    "%timeit mpmat(m).get_det(method=\"LDLT\")"
   ]
  },
  {
   "cell_type": "code",
   "execution_count": 5,
   "metadata": {},
   "outputs": [
    {
     "name": "stdout",
     "output_type": "stream",
     "text": [
      "10 loops, best of 5: 172 ms per loop\n",
      "10 loops, best of 5: 179 ms per loop\n",
      "1 loop, best of 5: 150 ms per loop\n",
      "10 loops, best of 5: 155 ms per loop\n"
     ]
    }
   ],
   "source": [
    "%timeit mpmat(m).get_logdet(method=\"base\")\n",
    "%timeit mpmat(m).get_logdet(method=\"LU\")\n",
    "%timeit mpmat(m).get_logdet(method=\"LLT\")\n",
    "%timeit mpmat(m).get_logdet(method=\"LDLT\")"
   ]
  },
  {
   "cell_type": "code",
   "execution_count": 6,
   "metadata": {},
   "outputs": [
    {
     "name": "stdout",
     "output_type": "stream",
     "text": [
      "1 loop, best of 5: 479 ms per loop\n",
      "1 loop, best of 5: 502 ms per loop\n",
      "1 loop, best of 5: 512 ms per loop\n",
      "1 loop, best of 5: 486 ms per loop\n"
     ]
    }
   ],
   "source": [
    "%timeit mpmat(m).get_logdet_with_inverse(method=\"base\")\n",
    "%timeit mpmat(m).get_logdet_with_inverse(method=\"LU\")\n",
    "%timeit mpmat(m).get_logdet_with_inverse(method=\"LLT\")\n",
    "%timeit mpmat(m).get_logdet_with_inverse(method=\"LDLT\")"
   ]
  },
  {
   "cell_type": "markdown",
   "metadata": {},
   "source": [
    "#### accuracy tests"
   ]
  },
  {
   "cell_type": "code",
   "execution_count": 7,
   "metadata": {},
   "outputs": [
    {
     "name": "stdout",
     "output_type": "stream",
     "text": [
      "-2314.7156402629197061016788999340555170486026342436\n",
      "-2314.71564026292\n",
      "-2314.71564026292\n",
      "-2314.71564026292\n",
      "-2314.71564026292\n"
     ]
    }
   ],
   "source": [
    "print(mp.log(mp.det(m)))\n",
    "print(mpmat(m).get_logdet(method=\"base\"))\n",
    "print(mpmat(m).get_logdet(method=\"LU\"))\n",
    "print(mpmat(m).get_logdet(method=\"LLT\"))\n",
    "print(mpmat(m).get_logdet(method=\"LDLT\"))"
   ]
  },
  {
   "cell_type": "code",
   "execution_count": 8,
   "metadata": {},
   "outputs": [
    {
     "name": "stdout",
     "output_type": "stream",
     "text": [
      "5.3922529742036437526550015968822151561322132740785e-1006\n",
      "5.3922529742036437526550015968822151558341472124423e-1006\n",
      "5.3922529742036437526550015968822151558341472124423e-1006\n",
      "5.3922529742036437526550015968822151558341472124423e-1006\n",
      "5.3922529742036437526550015968822151558341472124423e-1006\n"
     ]
    }
   ],
   "source": [
    "print(mp.det(m))\n",
    "print(mpmat(m).get_det(method=\"base\"))\n",
    "print(mpmat(m).get_det(method=\"LU\"))\n",
    "print(mpmat(m).get_det(method=\"LLT\"))\n",
    "print(mpmat(m).get_det(method=\"LDLT\"))"
   ]
  },
  {
   "cell_type": "markdown",
   "metadata": {},
   "source": [
    "<br><br><br>\n",
    " \n",
    "# Speed test 2: Different matrix sizes"
   ]
  },
  {
   "cell_type": "markdown",
   "metadata": {},
   "source": [
    "## 62x62"
   ]
  },
  {
   "cell_type": "markdown",
   "metadata": {},
   "source": [
    "#### speed tests"
   ]
  },
  {
   "cell_type": "code",
   "execution_count": 10,
   "metadata": {},
   "outputs": [],
   "source": [
    "m = mp_matrix_from_mpmatfile(\"62x62.mpmat\")\n",
    "b = mpmat(m)"
   ]
  },
  {
   "cell_type": "code",
   "execution_count": 11,
   "metadata": {},
   "outputs": [
    {
     "name": "stdout",
     "output_type": "stream",
     "text": [
      "10 loops, best of 5: 44.8 ms per loop\n",
      "10 loops, best of 5: 72.5 ms per loop\n",
      "10 loops, best of 5: 113 ms per loop\n"
     ]
    }
   ],
   "source": [
    "%timeit mpmat(m)             # mp.matrix => mpmat\n",
    "%timeit b.get_mat()          # mpmat => mp.matrix\n",
    "%timeit mpmat(m).get_mat()   # mp.matrix => mpmat => mp.matrix"
   ]
  },
  {
   "cell_type": "code",
   "execution_count": 12,
   "metadata": {},
   "outputs": [
    {
     "name": "stdout",
     "output_type": "stream",
     "text": [
      "1 loop, best of 5: 3.33 s per loop\n",
      "10 loops, best of 5: 164 ms per loop\n",
      "10 loops, best of 5: 157 ms per loop\n"
     ]
    }
   ],
   "source": [
    "%timeit slow_mp_matrix_inverse(m)\n",
    "%timeit fast_mp_matrix_inverse(m)\n",
    "%timeit fast_mp_matrix_inverse_symm(m)"
   ]
  },
  {
   "cell_type": "code",
   "execution_count": 13,
   "metadata": {},
   "outputs": [
    {
     "name": "stdout",
     "output_type": "stream",
     "text": [
      "1 loop, best of 5: 1.1 s per loop\n",
      "10 loops, best of 5: 57 ms per loop\n",
      "10 loops, best of 5: 53.9 ms per loop\n"
     ]
    }
   ],
   "source": [
    "%timeit slow_mp_matrix_logdet(m)\n",
    "%timeit fast_mp_matrix_logdet(m)\n",
    "%timeit fast_mp_matrix_logdet_symm(m)"
   ]
  },
  {
   "cell_type": "code",
   "execution_count": 14,
   "metadata": {},
   "outputs": [
    {
     "name": "stdout",
     "output_type": "stream",
     "text": [
      "1 loop, best of 5: 4.48 s per loop\n",
      "10 loops, best of 5: 160 ms per loop\n",
      "10 loops, best of 5: 159 ms per loop\n"
     ]
    }
   ],
   "source": [
    "%timeit slow_mp_matrix_inverse_with_logdet(m)\n",
    "%timeit fast_mp_matrix_inverse_with_logdet(m)\n",
    "%timeit fast_mp_matrix_inverse_with_logdet_symm(m)"
   ]
  },
  {
   "cell_type": "markdown",
   "metadata": {},
   "source": [
    "#### accuracy tests"
   ]
  },
  {
   "cell_type": "code",
   "execution_count": 15,
   "metadata": {},
   "outputs": [],
   "source": [
    "# tuples: logdet, m_inv\n",
    "ls,  mis  = slow_mp_matrix_inverse_with_logdet(m)\n",
    "lf1, mif1 = fast_mp_matrix_inverse_with_logdet(m)\n",
    "lf2, mif2 = fast_mp_matrix_inverse_with_logdet_symm(m)"
   ]
  },
  {
   "cell_type": "code",
   "execution_count": 16,
   "metadata": {},
   "outputs": [
    {
     "name": "stdout",
     "output_type": "stream",
     "text": [
      "-1674.3653998146617552213210927837844709633840431684\n",
      "-1674.3653998146617\n",
      "-1674.3653998146617\n"
     ]
    }
   ],
   "source": [
    "# expected accuracy much higer than float64:\n",
    "# -2314.7156402629197061016788999340555170486026342436\n",
    "# -2314.71564026292\n",
    "# -2314.71564026292\n",
    "\n",
    "print(ls)\n",
    "print(lf1)\n",
    "print(lf2)"
   ]
  },
  {
   "cell_type": "code",
   "execution_count": 17,
   "metadata": {},
   "outputs": [
    {
     "name": "stdout",
     "output_type": "stream",
     "text": [
      "2.6292019080652390659312853221895795613253481555378e-22\n",
      "2.6292019080652390659312853221895795613253481555378e-22\n",
      "0.0\n"
     ]
    }
   ],
   "source": [
    "print(np.sum(np.abs((mis - mif1).tolist())))\n",
    "print(np.sum(np.abs((mis - mif2).tolist())))\n",
    "print(np.sum(np.abs((mif1 - mif2).tolist())))"
   ]
  },
  {
   "cell_type": "markdown",
   "metadata": {},
   "source": [
    "<br><br>\n",
    "\n",
    "## 101x101"
   ]
  },
  {
   "cell_type": "markdown",
   "metadata": {},
   "source": [
    "#### speed tests"
   ]
  },
  {
   "cell_type": "code",
   "execution_count": 18,
   "metadata": {},
   "outputs": [],
   "source": [
    "m = mp_matrix_from_mpmatfile(\"101x101.mpmat\")\n",
    "b = mpmat(m)"
   ]
  },
  {
   "cell_type": "code",
   "execution_count": 19,
   "metadata": {},
   "outputs": [
    {
     "name": "stdout",
     "output_type": "stream",
     "text": [
      "10 loops, best of 5: 114 ms per loop\n",
      "1 loop, best of 5: 191 ms per loop\n",
      "1 loop, best of 5: 308 ms per loop\n"
     ]
    }
   ],
   "source": [
    "%timeit mpmat(m)             # mp.matrix => mpmat\n",
    "%timeit b.get_mat()          # mpmat => mp.matrix\n",
    "%timeit mpmat(m).get_mat()   # mp.matrix => mpmat => mp.matrix"
   ]
  },
  {
   "cell_type": "code",
   "execution_count": 20,
   "metadata": {},
   "outputs": [
    {
     "name": "stdout",
     "output_type": "stream",
     "text": [
      "1 loop, best of 5: 14.4 s per loop\n",
      "1 loop, best of 5: 488 ms per loop\n",
      "1 loop, best of 5: 488 ms per loop\n"
     ]
    }
   ],
   "source": [
    "%timeit slow_mp_matrix_inverse(m)\n",
    "%timeit fast_mp_matrix_inverse(m)\n",
    "%timeit fast_mp_matrix_inverse_symm(m)"
   ]
  },
  {
   "cell_type": "code",
   "execution_count": 21,
   "metadata": {},
   "outputs": [
    {
     "name": "stdout",
     "output_type": "stream",
     "text": [
      "1 loop, best of 5: 4.67 s per loop\n",
      "10 loops, best of 5: 173 ms per loop\n",
      "10 loops, best of 5: 148 ms per loop\n"
     ]
    }
   ],
   "source": [
    "%timeit slow_mp_matrix_logdet(m)\n",
    "%timeit fast_mp_matrix_logdet(m)\n",
    "%timeit fast_mp_matrix_logdet_symm(m)"
   ]
  },
  {
   "cell_type": "code",
   "execution_count": 22,
   "metadata": {},
   "outputs": [
    {
     "name": "stdout",
     "output_type": "stream",
     "text": [
      "1 loop, best of 5: 19.2 s per loop\n",
      "1 loop, best of 5: 482 ms per loop\n",
      "1 loop, best of 5: 475 ms per loop\n"
     ]
    }
   ],
   "source": [
    "%timeit slow_mp_matrix_inverse_with_logdet(m)\n",
    "%timeit fast_mp_matrix_inverse_with_logdet(m)\n",
    "%timeit fast_mp_matrix_inverse_with_logdet_symm(m)"
   ]
  },
  {
   "cell_type": "markdown",
   "metadata": {},
   "source": [
    "#### accuracy tests"
   ]
  },
  {
   "cell_type": "code",
   "execution_count": null,
   "metadata": {},
   "outputs": [],
   "source": [
    "# tuples: logdet, m_inv\n",
    "ls,  mis  = slow_mp_matrix_inverse_with_logdet(m)\n",
    "lf1, mif1 = fast_mp_matrix_inverse_with_logdet(m)\n",
    "lf2, mif2 = fast_mp_matrix_inverse_with_logdet_symm(m)"
   ]
  },
  {
   "cell_type": "code",
   "execution_count": null,
   "metadata": {},
   "outputs": [],
   "source": [
    "# expected accuracy much higer than float64:\n",
    "# -2314.7156402629197061016788999340555170486026342436\n",
    "# -2314.71564026292\n",
    "# -2314.71564026292\n",
    "\n",
    "print(ls)\n",
    "print(lf1)\n",
    "print(lf2)"
   ]
  },
  {
   "cell_type": "code",
   "execution_count": null,
   "metadata": {},
   "outputs": [],
   "source": [
    "print(np.sum(np.abs((mis - mif1).tolist())))\n",
    "print(np.sum(np.abs((mis - mif2).tolist())))\n",
    "print(np.sum(np.abs((mif1 - mif2).tolist())))"
   ]
  },
  {
   "cell_type": "code",
   "execution_count": null,
   "metadata": {},
   "outputs": [],
   "source": []
  },
  {
   "cell_type": "code",
   "execution_count": null,
   "metadata": {},
   "outputs": [],
   "source": []
  },
  {
   "cell_type": "markdown",
   "metadata": {},
   "source": [
    "<br><br>\n",
    "\n",
    "## DEATH MODE: 2100x2100"
   ]
  },
  {
   "cell_type": "code",
   "execution_count": null,
   "metadata": {},
   "outputs": [],
   "source": [
    "stop@"
   ]
  },
  {
   "cell_type": "code",
   "execution_count": 30,
   "metadata": {},
   "outputs": [],
   "source": [
    "m = mp_matrix_from_mpmatfile(\"2100x2100_2.mpmat\")"
   ]
  },
  {
   "cell_type": "code",
   "execution_count": 31,
   "metadata": {},
   "outputs": [
    {
     "name": "stdout",
     "output_type": "stream",
     "text": [
      "CPU times: user 16min 43s, sys: 2.72 s, total: 16min 46s\n",
      "Wall time: 16min 44s\n"
     ]
    }
   ],
   "source": [
    "%%time\n",
    "lf1 = fast_mp_matrix_logdet(m)"
   ]
  },
  {
   "cell_type": "code",
   "execution_count": 23,
   "metadata": {},
   "outputs": [
    {
     "name": "stdout",
     "output_type": "stream",
     "text": [
      "CPU times: user 3min 20s, sys: 548 ms, total: 3min 20s\n",
      "Wall time: 3min 20s\n"
     ]
    },
    {
     "data": {
      "text/plain": [
       "-49304.14597975222"
      ]
     },
     "execution_count": 23,
     "metadata": {},
     "output_type": "execute_result"
    }
   ],
   "source": [
    "%%time\n",
    "lf2 = fast_mp_matrix_logdet2(m)"
   ]
  },
  {
   "cell_type": "code",
   "execution_count": 24,
   "metadata": {},
   "outputs": [
    {
     "name": "stdout",
     "output_type": "stream",
     "text": [
      "CPU times: user 17min 24s, sys: 5.1 s, total: 17min 29s\n",
      "Wall time: 17min 27s\n"
     ]
    }
   ],
   "source": [
    "%%time\n",
    "lf2, mif2 = fast_mp_matrix_inverse_with_logdet2(m)"
   ]
  },
  {
   "cell_type": "code",
   "execution_count": null,
   "metadata": {},
   "outputs": [],
   "source": []
  },
  {
   "cell_type": "code",
   "execution_count": null,
   "metadata": {},
   "outputs": [],
   "source": []
  },
  {
   "cell_type": "code",
   "execution_count": null,
   "metadata": {},
   "outputs": [],
   "source": []
  },
  {
   "cell_type": "code",
   "execution_count": null,
   "metadata": {},
   "outputs": [],
   "source": []
  }
 ],
 "metadata": {
  "kernelspec": {
   "display_name": "Python 3",
   "language": "python",
   "name": "python3"
  },
  "language_info": {
   "codemirror_mode": {
    "name": "ipython",
    "version": 3
   },
   "file_extension": ".py",
   "mimetype": "text/x-python",
   "name": "python",
   "nbconvert_exporter": "python",
   "pygments_lexer": "ipython3",
   "version": "3.7.7"
  }
 },
 "nbformat": 4,
 "nbformat_minor": 4
}
